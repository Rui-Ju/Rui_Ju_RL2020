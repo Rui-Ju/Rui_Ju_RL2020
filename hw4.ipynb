{
  "nbformat": 4,
  "nbformat_minor": 0,
  "metadata": {
    "kernelspec": {
      "display_name": "Python 3",
      "language": "python",
      "name": "python3"
    },
    "language_info": {
      "codemirror_mode": {
        "name": "ipython",
        "version": 3
      },
      "file_extension": ".py",
      "mimetype": "text/x-python",
      "name": "python",
      "nbconvert_exporter": "python",
      "pygments_lexer": "ipython3",
      "version": "3.7.3"
    },
    "colab": {
      "name": "hw4.ipynb",
      "provenance": []
    }
  },
  "cells": [
    {
      "cell_type": "code",
      "metadata": {
        "colab": {
          "base_uri": "https://localhost:8080/"
        },
        "id": "uVXkIv1MAjk9",
        "outputId": "e3163e87-5fd1-40d4-f31f-d3cb9d9a53bb"
      },
      "source": [
        "%tensorflow_version 1.x\n",
        "import numpy as np\n",
        "import matplotlib.pyplot as plt\n",
        "import tensorflow as tf\n",
        "\n",
        "def sample_jester_data(file_name, context_dim = 32, num_actions = 8, num_contexts = 19181,\n",
        "    shuffle_rows=True, shuffle_cols=False):\n",
        "    \"\"\"Samples bandit game from (user, joke) dense subset of Jester dataset.\n",
        "    Args:\n",
        "    file_name: Route of file containing the modified Jester dataset.\n",
        "    context_dim: Context dimension (i.e. vector with some ratings from a user).\n",
        "    num_actions: Number of actions (number of joke ratings to predict).\n",
        "    num_contexts: Number of contexts to sample.\n",
        "    shuffle_rows: If True, rows from original dataset are shuffled.\n",
        "    shuffle_cols: Whether or not context/action jokes are randomly shuffled.\n",
        "    Returns:\n",
        "    dataset: Sampled matrix with rows: (context, rating_1, ..., rating_k).\n",
        "    opt_vals: Vector of deterministic optimal (reward, action) for each context.\n",
        "    \"\"\"\n",
        "    np.random.seed(0)\n",
        "    with tf.gfile.Open(file_name, 'rb') as f:\n",
        "        dataset = np.load(f)\n",
        "    if shuffle_cols:\n",
        "        dataset = dataset[:, np.random.permutation(dataset.shape[1])]\n",
        "    if shuffle_rows:\n",
        "        np.random.shuffle(dataset)\n",
        "    dataset = dataset[:num_contexts, :]\n",
        "    assert context_dim + num_actions == dataset.shape[1], 'Wrong data dimensions.'\n",
        "    opt_actions = np.argmax(dataset[:, context_dim:], axis=1)\n",
        "    opt_rewards = np.array([dataset[i, context_dim + a] for i, a in enumerate(opt_actions)])\n",
        "    return dataset, opt_rewards, opt_actions"
      ],
      "execution_count": 1,
      "outputs": [
        {
          "output_type": "stream",
          "text": [
            "TensorFlow 1.x selected.\n"
          ],
          "name": "stdout"
        }
      ]
    },
    {
      "cell_type": "code",
      "metadata": {
        "id": "RCB9VqiLAjk9"
      },
      "source": [
        "dataset, opt_rewards, opt_actions = sample_jester_data(\"jester_data_40jokes_19181users.npy\")"
      ],
      "execution_count": 2,
      "outputs": []
    },
    {
      "cell_type": "code",
      "metadata": {
        "id": "mGROWhTXAvie"
      },
      "source": [
        "n = 18000 # number of users\n",
        "k = 32 # number of features\n",
        "n_a = 8 # number of actions\n",
        "D = [i[:32] for i in dataset[:18000]] # training data\n",
        "y = [i[32:] for i in dataset[:18000]] # target of the training data\n",
        "X_test = [i[:32] for i in dataset[18000:]]\n",
        "y_test = [i[32:] for i in dataset[18000:]]\n",
        "y_optimal = opt_rewards[18000:]\n",
        "test_n = len(dataset) - 18000"
      ],
      "execution_count": 69,
      "outputs": []
    },
    {
      "cell_type": "code",
      "metadata": {
        "id": "z8h57wn7Dr49"
      },
      "source": [
        "alpha = [0.1,0.2,0.3,0.4,0.5,0.6,0.7,0.8,0.9,1]\n",
        "regrets = []\n",
        "for m in range(len(alpha)):\n",
        "    choices = np.zeros(n)\n",
        "    b = np.zeros((n_a, k)) # b_a = D_a'y_a\n",
        "    A = np.zeros((n_a, k, k)) # A_a = D_a'D_a + I, for each action we have a k by k matrix\n",
        "    for a in range(n_a):\n",
        "        A[a] = np.identity(k)\n",
        "    th_hat = np.zeros((n_a, k)) # our temporary feature vectors\n",
        "    p = np.zeros(n_a)\n",
        "    for i in range(n):\n",
        "        x_i = D[i]\n",
        "        for a in range(n_a):\n",
        "            A_inv = np.linalg.inv(A[a])\n",
        "            th_hat[a] = A_inv.dot(b[a]) # theta = inverse(D_a'D_a + I)D_a'y_a\n",
        "            ta = x_i.dot(A_inv).dot(x_i) # variance\n",
        "            a_upper_ci = alpha[m] * np.sqrt(ta)\n",
        "            a_mean = th_hat[a].dot(x_i)\n",
        "            p[a] = a_mean + a_upper_ci\n",
        "        # randomly add a very small value to pick one from ties\n",
        "        p = p + (np.random.random(len(p)) * 0.000001)\n",
        "        choices[i] = p.argmax() # choose the highest\n",
        "\n",
        "        # update the input vector\n",
        "        A[int(choices[i])] += np.outer(x_i, x_i)\n",
        "        b[int(choices[i])] += y[i][int(choices[i])] * x_i # b is the multiplication of reward by context\n",
        "\n",
        "    rewards_pred = []\n",
        "    for i in range(test_n):\n",
        "        x_i = X_test[i]\n",
        "        p_pred = th_hat.dot(x_i)\n",
        "        choice = p_pred.argmax()\n",
        "        reward_pred = y_test[i][int(choice)]\n",
        "        rewards_pred.append(reward_pred)\n",
        "    regret = y_optimal - rewards_pred\n",
        "    regrets.append(regret)\n"
      ],
      "execution_count": 76,
      "outputs": []
    },
    {
      "cell_type": "markdown",
      "metadata": {
        "id": "Gwd1eL1gdqk6"
      },
      "source": [
        "alpha = 0.3 gives the best performance. Regret is as follows."
      ]
    },
    {
      "cell_type": "code",
      "metadata": {
        "colab": {
          "base_uri": "https://localhost:8080/",
          "height": 267
        },
        "id": "S7_O9hc5D_KV",
        "outputId": "587c26af-7eea-4492-a8a8-ac9966bbaa64"
      },
      "source": [
        "best_index = np.array([np.mean(i) for i in regrets]).argmin()\n",
        "best_alpha = alpha[best_index]\n",
        "min_regret = regrets[best_index]\n",
        "plt.plot(min_regret)\n",
        "plt.show()"
      ],
      "execution_count": 87,
      "outputs": [
        {
          "output_type": "display_data",
          "data": {
            "image/png": "[encoded data removed]",
            "text/plain": [
              "<Figure size 432x288 with 1 Axes>"
            ]
          },
          "metadata": {
            "tags": [],
            "needs_background": "light"
          }
        }
      ]
    },
    {
      "cell_type": "code",
      "metadata": {
        "colab": {
          "base_uri": "https://localhost:8080/"
        },
        "id": "RmIyklGYc9uN",
        "outputId": "fcb688cd-645c-4ce2-cf45-e2c05e8645ee"
      },
      "source": [
        "best_alpha"
      ],
      "execution_count": 88,
      "outputs": [
        {
          "output_type": "execute_result",
          "data": {
            "text/plain": [
              "0.3"
            ]
          },
          "metadata": {
            "tags": []
          },
          "execution_count": 88
        }
      ]
    }
  ]
}