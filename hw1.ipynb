{
 "cells": [
  {
   "cell_type": "code",
   "execution_count": 1,
   "metadata": {},
   "outputs": [],
   "source": [
    "import numpy as np\n",
    "import matplotlib.pyplot as plt\n",
    "from itertools import product"
   ]
  },
  {
   "cell_type": "markdown",
   "metadata": {},
   "source": [
    "# Problem 1"
   ]
  },
  {
   "cell_type": "code",
   "execution_count": 48,
   "metadata": {},
   "outputs": [],
   "source": [
    "def transition(state, a):\n",
    "    outcome = []\n",
    "    for i in range(1,6):\n",
    "        if a == 1:\n",
    "            outcome.append([0.2, min(max(0,state+i-15),200), -2*(max(state+i-15,0))-100])\n",
    "        else:\n",
    "            outcome.append([0.2, min(state+i,200), -2*(state+i)])          \n",
    "    return outcome"
   ]
  },
  {
   "cell_type": "code",
   "execution_count": 49,
   "metadata": {},
   "outputs": [],
   "source": [
    "def one_step_lookahead(state, V, discount_factor):\n",
    "    A = np.zeros(2)\n",
    "    for a in range(2):\n",
    "        transition_P = transition(state, a)\n",
    "        for prob, next_state, reward in transition_P:\n",
    "            A[a] += prob * (reward + discount_factor * V[next_state])\n",
    "    return A\n",
    "                                \n"
   ]
  },
  {
   "cell_type": "markdown",
   "metadata": {},
   "source": [
    "### (a) Enumeration\n",
    "Plot optimal value function at time 0 versus number of customers waiting."
   ]
  },
  {
   "cell_type": "code",
   "execution_count": 50,
   "metadata": {},
   "outputs": [],
   "source": [
    "def enumeration(discount_factor=0.95, T=500):\n",
    "    V_t = np.zeros(201)\n",
    "    V_tplus1 = np.zeros(201)\n",
    "    for t in range(T, -1, -1):\n",
    "        for s in range(201):\n",
    "            A = one_step_lookahead(s, V_tplus1, discount_factor)\n",
    "            best_action_value = np.max(A)\n",
    "            V_t[s] = best_action_value\n",
    "        V_tplus1 = V_t.copy()\n",
    "    return V_t"
   ]
  },
  {
   "cell_type": "code",
   "execution_count": 54,
   "metadata": {},
   "outputs": [
    {
     "data": {
      "image/png": "[encoded data removed]",
      "text/plain": [
       "<Figure size 432x288 with 1 Axes>"
      ]
     },
     "metadata": {
      "needs_background": "light"
     },
     "output_type": "display_data"
    }
   ],
   "source": [
    "V_enumeration = enumeration()\n",
    "plt.plot(V_enumeration)\n",
    "plt.show()"
   ]
  },
  {
   "cell_type": "markdown",
   "metadata": {},
   "source": [
    "### (b) Value Iteration\n",
    "Plot optimal value function versus number of customers waiting."
   ]
  },
  {
   "cell_type": "code",
   "execution_count": 51,
   "metadata": {},
   "outputs": [],
   "source": [
    "def value_iteration(theta=0.001, discount_factor=0.95):\n",
    "    V = np.zeros(201)\n",
    "    while True:\n",
    "        delta = 0\n",
    "        for s in range(201):\n",
    "            A = one_step_lookahead(s, V, discount_factor)\n",
    "            best_action_value = np.max(A)\n",
    "            delta = max(delta, np.abs(best_action_value - V[s]))\n",
    "            V[s] = best_action_value\n",
    "        if delta < theta:\n",
    "            break\n",
    "    return V\n",
    "    "
   ]
  },
  {
   "cell_type": "code",
   "execution_count": 55,
   "metadata": {},
   "outputs": [
    {
     "data": {
      "image/png": "[encoded data removed]",
      "text/plain": [
       "<Figure size 432x288 with 1 Axes>"
      ]
     },
     "metadata": {
      "needs_background": "light"
     },
     "output_type": "display_data"
    }
   ],
   "source": [
    "V_value_iteration = value_iteration()\n",
    "plt.plot(V_value_iteration)\n",
    "plt.show()"
   ]
  },
  {
   "cell_type": "markdown",
   "metadata": {},
   "source": [
    "### (c) Policy Iteration\n",
    "Plot optimal policy versus number of customers waiting."
   ]
  },
  {
   "cell_type": "code",
   "execution_count": 52,
   "metadata": {},
   "outputs": [],
   "source": [
    "def policy_eval(policy, theta=0.001, discount_factor=0.95):\n",
    "    V = np.zeros(201)\n",
    "    while True:\n",
    "        delta = 0\n",
    "        for s in range(201):\n",
    "            v = 0\n",
    "            for a, action_prob in enumerate(policy[s]):\n",
    "                transition_P = transition(s, a)\n",
    "                for prob, next_state, reward in transition_P:\n",
    "                    v += action_prob * prob * (reward + discount_factor * V[next_state])\n",
    "            delta = max(delta, np.abs(v-V[s]))\n",
    "            V[s] = v\n",
    "        if delta < theta:\n",
    "            break\n",
    "    return V\n",
    "    \n",
    "    "
   ]
  },
  {
   "cell_type": "code",
   "execution_count": 53,
   "metadata": {},
   "outputs": [],
   "source": [
    "def policy_improvement(discount_factor=0.95):\n",
    "    policy = np.ones([201, 2])/2\n",
    "    while True:\n",
    "        V = policy_eval(policy)\n",
    "        policy_stable = True\n",
    "        for s in range(201):\n",
    "            chosen_a = np.argmax(policy[s])\n",
    "            action_values = one_step_lookahead(s, V, discount_factor)\n",
    "            best_a = np.argmax(action_values)\n",
    "            if chosen_a != best_a:\n",
    "                policy_stable = False\n",
    "            policy[s] = np.eye(2)[best_a]\n",
    "        \n",
    "        if policy_stable:\n",
    "            return policy, V\n",
    "            \n",
    "    "
   ]
  },
  {
   "cell_type": "code",
   "execution_count": 58,
   "metadata": {},
   "outputs": [
    {
     "data": {
      "image/png": "[encoded data removed]",
      "text/plain": [
       "<Figure size 432x288 with 1 Axes>"
      ]
     },
     "metadata": {
      "needs_background": "light"
     },
     "output_type": "display_data"
    }
   ],
   "source": [
    "policy, V_policy_iteration = policy_improvement()\n",
    "policy = [1 if item[1] == 1 else 0 for item in policy]\n",
    "plt.plot(policy)\n",
    "plt.show()"
   ]
  },
  {
   "cell_type": "markdown",
   "metadata": {},
   "source": [
    "# Problem 2\n",
    "Assume customers with a higher cost get on the shuttle first.\n",
    "\n",
    "This problem has huge number of states. Because of the curse of dimensionality, it will take forever to run, which means these methods are not enough to solve problems like this.\n",
    "\n",
    "In order to show the functionality of the functions, here we scale down all the parameters to make it solvable."
   ]
  },
  {
   "cell_type": "code",
   "execution_count": 17,
   "metadata": {},
   "outputs": [],
   "source": [
    "# number of types of customers\n",
    "NUM_TYPE = 2\n",
    "# max number of customers to come in each type\n",
    "MAX_COME = 3\n",
    "# capacity of the shuttle\n",
    "SHUTTLE = 5\n",
    "# cost of the shuttle\n",
    "SHUTTLE_FEE = 25\n",
    "# max number of waiting customers in each type\n",
    "NUM_PP = 20\n",
    "# cost of customers\n",
    "COST = [1,1.5]\n",
    "# episode to run in enumeration\n",
    "T = 100\n",
    "\n",
    "# parameters of the original setting\n",
    "#NUM_TYPE = 5\n",
    "#MAX_COME = 5\n",
    "#SHUTTLE = 30\n",
    "#SHUTTLE_FEE = 100\n",
    "#NUM_PP = 10\n",
    "#COST = [1,1.5,2,2.5,3]\n",
    "#T = 500\n",
    "\n",
    "# discount factor\n",
    "DISCOUNT = 0.95\n",
    "\n",
    "NUM_STATE_MULTI = (NUM_PP+1)**NUM_TYPE\n",
    "ALL_STATES = [list(item) for item in list(product(range(NUM_PP+1), repeat=NUM_TYPE))]\n"
   ]
  },
  {
   "cell_type": "code",
   "execution_count": 18,
   "metadata": {},
   "outputs": [],
   "source": [
    "def transition_multi(state, a, cost):\n",
    "    next_states = np.add([list(item) for item in list(product(range(1,MAX_COME+1), repeat=NUM_TYPE))], state)\n",
    "    next_states = [list(map(lambda x: min(x,NUM_PP), next_state)) for next_state in next_states]\n",
    "    reward = np.zeros(len(next_states))\n",
    "    for i in range(len(next_states)):\n",
    "        next_state = next_states[i]\n",
    "        if a == 1:\n",
    "            num = 0\n",
    "            type_idx = NUM_TYPE-1\n",
    "            while True:\n",
    "                num += next_state[type_idx]\n",
    "                if num >= SHUTTLE or type_idx == 0:\n",
    "                    break\n",
    "                type_idx -= 1\n",
    "            for j in range(NUM_TYPE-1, type_idx, -1):\n",
    "                next_state[j] = 0\n",
    "            next_state[type_idx] = max(0, num-SHUTTLE)\n",
    "            reward[i] = -sum(np.multiply(next_state, cost))-SHUTTLE_FEE\n",
    "        else:\n",
    "            reward[i] = -sum(np.multiply(next_state, cost))\n",
    "    prob = 1/MAX_COME**NUM_TYPE\n",
    "    outcome = [[prob, next_states[i], reward[i]] for i in range(len(next_states))]       \n",
    "    return outcome"
   ]
  },
  {
   "cell_type": "code",
   "execution_count": 19,
   "metadata": {},
   "outputs": [],
   "source": [
    "def one_step_lookahead_multi(state, V, discount_factor, cost):\n",
    "    A = np.zeros(2)\n",
    "    for a in range(2):\n",
    "        transition_P = transition_multi(state, a, cost)\n",
    "        for prob, next_state, reward in transition_P:\n",
    "            A[a] += prob * (reward + discount_factor * V[ALL_STATES.index(list(next_state))])\n",
    "    return A"
   ]
  },
  {
   "cell_type": "markdown",
   "metadata": {},
   "source": [
    "### (a) Enumeration\n",
    "Plot optimal value function at time 0 versus number of customers waiting."
   ]
  },
  {
   "cell_type": "code",
   "execution_count": 20,
   "metadata": {},
   "outputs": [],
   "source": [
    "def enumeration_multi(discount_factor=DISCOUNT, T=T, cost=COST):\n",
    "    V_t = np.zeros(NUM_STATE_MULTI)\n",
    "    V_tplus1 = np.zeros(NUM_STATE_MULTI)\n",
    "    for t in range(T, -1, -1):\n",
    "        for s in ALL_STATES:\n",
    "            A = one_step_lookahead_multi(s, V_tplus1, discount_factor, cost)\n",
    "            best_action_value = np.max(A)\n",
    "            V_t[ALL_STATES.index(list(s))] = best_action_value\n",
    "        V_tplus1 = V_t.copy()\n",
    "    return V_t"
   ]
  },
  {
   "cell_type": "code",
   "execution_count": 21,
   "metadata": {},
   "outputs": [],
   "source": [
    "V_enumeration_multi = enumeration_multi()"
   ]
  },
  {
   "cell_type": "code",
   "execution_count": 22,
   "metadata": {},
   "outputs": [
    {
     "data": {
      "image/png": "[encoded data removed]",
      "text/plain": [
       "<Figure size 432x288 with 1 Axes>"
      ]
     },
     "metadata": {
      "needs_background": "light"
     },
     "output_type": "display_data"
    }
   ],
   "source": [
    "V_enumeration_multi_0 = [V_enumeration_multi[i] for i in range(NUM_STATE_MULTI) if ALL_STATES[i][1] == 0]\n",
    "plt.plot(V_enumeration_multi_0)\n",
    "plt.show()"
   ]
  },
  {
   "cell_type": "markdown",
   "metadata": {},
   "source": [
    "### (b) Value Iteration\n",
    "Plot optimal value function versus number of customers waiting."
   ]
  },
  {
   "cell_type": "code",
   "execution_count": 14,
   "metadata": {},
   "outputs": [],
   "source": [
    "def value_iteration_multi(theta=0.001, discount_factor=0.95, cost=COST):\n",
    "    V = np.zeros(NUM_STATE_MULTI)\n",
    "    while True:\n",
    "        delta = 0\n",
    "        for s in ALL_STATES:\n",
    "            A = one_step_lookahead_multi(s, V, discount_factor, cost)\n",
    "            best_action_value = np.max(A)\n",
    "            delta = max(delta, np.abs(best_action_value - V[ALL_STATES.index(list(s))]))\n",
    "            V[ALL_STATES.index(list(s))] = best_action_value\n",
    "        if delta < theta:\n",
    "            break\n",
    "    return V"
   ]
  },
  {
   "cell_type": "code",
   "execution_count": 15,
   "metadata": {},
   "outputs": [],
   "source": [
    "V_value_iteration_multi = value_iteration_multi()"
   ]
  },
  {
   "cell_type": "code",
   "execution_count": 16,
   "metadata": {},
   "outputs": [
    {
     "data": {
      "image/png": "[encoded data removed]",
      "text/plain": [
       "<Figure size 432x288 with 1 Axes>"
      ]
     },
     "metadata": {
      "needs_background": "light"
     },
     "output_type": "display_data"
    }
   ],
   "source": [
    "V_value_iteration_multi_0 = [V_value_iteration_multi[i] for i in range(NUM_STATE_MULTI) if ALL_STATES[i][1] == 0]\n",
    "plt.plot(V_value_iteration_multi_0)\n",
    "plt.show()"
   ]
  },
  {
   "cell_type": "markdown",
   "metadata": {},
   "source": [
    "### (c) Policy Iteration\n",
    "Plot optimal policy versus number of customers waiting."
   ]
  },
  {
   "cell_type": "code",
   "execution_count": 23,
   "metadata": {},
   "outputs": [],
   "source": [
    "def policy_eval_multi(policy, theta=0.001, discount_factor=0.95, cost=COST):\n",
    "    V = np.zeros(NUM_STATE_MULTI)\n",
    "    while True:\n",
    "        delta = 0\n",
    "        for s in ALL_STATES:\n",
    "            v = 0\n",
    "            for a, action_prob in enumerate(policy[ALL_STATES.index(list(s))]):\n",
    "                transition_P = transition_multi(s, a, cost)\n",
    "                for prob, next_state, reward in transition_P:\n",
    "                    v += action_prob * prob * (reward + discount_factor * V[ALL_STATES.index(list(next_state))])\n",
    "            delta = max(delta, np.abs(v-V[ALL_STATES.index(list(s))]))\n",
    "            V[ALL_STATES.index(list(s))] = v\n",
    "        if delta < theta:\n",
    "            break\n",
    "    return V"
   ]
  },
  {
   "cell_type": "code",
   "execution_count": 24,
   "metadata": {},
   "outputs": [],
   "source": [
    "def policy_improvement_multi(discount_factor=0.95, cost=COST):\n",
    "    policy = np.ones([NUM_STATE_MULTI, 2])/2\n",
    "    while True:\n",
    "        V = policy_eval_multi(policy)\n",
    "        policy_stable = True\n",
    "        for s in ALL_STATES:\n",
    "            chosen_a = np.argmax(policy[ALL_STATES.index(list(s))])\n",
    "            action_values = one_step_lookahead_multi(s, V, discount_factor, cost)\n",
    "            best_a = np.argmax(action_values)\n",
    "            if chosen_a != best_a:\n",
    "                policy_stable = False\n",
    "            policy[ALL_STATES.index(list(s))] = np.eye(2)[best_a] \n",
    "        if policy_stable:\n",
    "            return policy, V\n",
    "            "
   ]
  },
  {
   "cell_type": "code",
   "execution_count": 25,
   "metadata": {},
   "outputs": [],
   "source": [
    "policy_multi, V_policy_interation_multi = policy_improvement_multi()"
   ]
  },
  {
   "cell_type": "markdown",
   "metadata": {},
   "source": [
    "We plot the policy with respect to the number of customers whose cost is 1 and fix the number of customers in the other type to be 0."
   ]
  },
  {
   "cell_type": "code",
   "execution_count": 26,
   "metadata": {},
   "outputs": [
    {
     "data": {
      "image/png": "[encoded data removed]",
      "text/plain": [
       "<Figure size 432x288 with 1 Axes>"
      ]
     },
     "metadata": {
      "needs_background": "light"
     },
     "output_type": "display_data"
    }
   ],
   "source": [
    "policy_multi = [0 if array[0] > array[1] else 1 for array in policy_multi]\n",
    "policy_multi = [policy_multi[i] for i in range(NUM_STATE_MULTI) if ALL_STATES[i][1] == 0]\n",
    "plt.plot(policy_multi)\n",
    "plt.show()"
   ]
  }
 ],
 "metadata": {
  "kernelspec": {
   "display_name": "Python 3",
   "language": "python",
   "name": "python3"
  },
  "language_info": {
   "codemirror_mode": {
    "name": "ipython",
    "version": 3
   },
   "file_extension": ".py",
   "mimetype": "text/x-python",
   "name": "python",
   "nbconvert_exporter": "python",
   "pygments_lexer": "ipython3",
   "version": "3.7.3"
  }
 },
 "nbformat": 4,
 "nbformat_minor": 2
}
